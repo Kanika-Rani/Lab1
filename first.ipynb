{
 "cells": [
  {
   "cell_type": "markdown",
   "id": "afe62ed8",
   "metadata": {},
   "source": [
    "# My Jupyter Notebook on IBM Watson Studio"
   ]
  },
  {
   "cell_type": "markdown",
   "id": "6a045086",
   "metadata": {},
   "source": [
    "**Kanika**<br>\n",
    "Student"
   ]
  },
  {
   "cell_type": "markdown",
   "id": "bac8261d",
   "metadata": {},
   "source": [
    "*I am interested in data science because i always loved mathematics and in short i enjoyed to solve problems as there are many to solve and answer based on data in real life.And as we know data is spread everywhere and it is adding up or raising day by day ,it is very interesting for me to play with it and make conlusions from it.*"
   ]
  },
  {
   "cell_type": "markdown",
   "id": "4565ec04",
   "metadata": {},
   "source": [
    "### Addition of two numbers"
   ]
  },
  {
   "cell_type": "code",
   "execution_count": 2,
   "id": "bbda4084",
   "metadata": {},
   "outputs": [
    {
     "data": {
      "text/plain": [
       "2"
      ]
     },
     "execution_count": 2,
     "metadata": {},
     "output_type": "execute_result"
    }
   ],
   "source": [
    "1+1"
   ]
  },
  {
   "cell_type": "markdown",
   "id": "26747c0b",
   "metadata": {},
   "source": [
    "1. Numbered item\n",
    "2. Numbered item\n",
    "<br>\n",
    "\n",
    "***\n",
    "<br>\n",
    "\n",
    "- Bulleted item\n",
    "- Bulleted item\n",
    "\n",
    "<br>\n",
    "\n",
    "`Here is some code!`\n",
    "<br>\n",
    "\n",
    "Click <a href=\"https://www.google.com\" target=\"_blank\">this link</a>."
   ]
  },
  {
   "cell_type": "code",
   "execution_count": null,
   "id": "5cfa3119",
   "metadata": {},
   "outputs": [],
   "source": []
  }
 ],
 "metadata": {
  "kernelspec": {
   "display_name": "Python 3 (ipykernel)",
   "language": "python",
   "name": "python3"
  },
  "language_info": {
   "codemirror_mode": {
    "name": "ipython",
    "version": 3
   },
   "file_extension": ".py",
   "mimetype": "text/x-python",
   "name": "python",
   "nbconvert_exporter": "python",
   "pygments_lexer": "ipython3",
   "version": "3.9.13"
  }
 },
 "nbformat": 4,
 "nbformat_minor": 5
}
